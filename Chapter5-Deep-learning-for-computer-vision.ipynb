{
 "cells": [
  {
   "cell_type": "markdown",
   "metadata": {},
   "source": [
    "<< [第四章：机器学习基础](Chapter4-Fundamentals-of-machine-learning.ipynb)|| [目录](index.md) || [第六章：文字和序列中的深度学习](Chapter6-Deep-learning-for-text-and-sequences.ipynb) >>"
   ]
  },
  {
   "cell_type": "markdown",
   "metadata": {},
   "source": [
    "# 第五章：计算机视觉中的深度学习 "
   ]
  },
  {
   "cell_type": "markdown",
   "metadata": {},
   "source": [
    "<< [第四章：机器学习基础](Chapter4-Fundamentals-of-machine-learning.ipynb)|| [目录](index.md) || [第六章：文字和序列中的深度学习](Chapter6-Deep-learning-for-text-and-sequences.ipynb) >>"
   ]
  }
 ],
 "metadata": {
  "kernelspec": {
   "display_name": "Python 3",
   "language": "python",
   "name": "python3"
  },
  "language_info": {
   "codemirror_mode": {
    "name": "ipython",
    "version": 3
   },
   "file_extension": ".py",
   "mimetype": "text/x-python",
   "name": "python",
   "nbconvert_exporter": "python",
   "pygments_lexer": "ipython3",
   "version": "3.7.7"
  }
 },
 "nbformat": 4,
 "nbformat_minor": 4
}
