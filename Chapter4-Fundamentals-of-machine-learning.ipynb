{
 "cells": [
  {
   "cell_type": "markdown",
   "metadata": {},
   "source": [
    "<< [第三章：进入神经网络](Chapter3-Getting-started-with-neural-networks.ipynb) || [目录](index.md) || [第五章：计算机视觉中的深度学习](Chapter5-Deep-learning-for-computer-vision.ipynb) >>"
   ]
  },
  {
   "cell_type": "markdown",
   "metadata": {},
   "source": [
    "# 第四章：机器学习基础 "
   ]
  },
  {
   "cell_type": "markdown",
   "metadata": {},
   "source": [
    "<< [第三章：进入神经网络](Chapter3-Getting-started-with-neural-networks.ipynb) || [目录](index.md) || [第五章：计算机视觉中的深度学习](Chapter5-Deep-learning-for-computer-vision.ipynb) >>"
   ]
  }
 ],
 "metadata": {
  "kernelspec": {
   "display_name": "Python 3",
   "language": "python",
   "name": "python3"
  },
  "language_info": {
   "codemirror_mode": {
    "name": "ipython",
    "version": 3
   },
   "file_extension": ".py",
   "mimetype": "text/x-python",
   "name": "python",
   "nbconvert_exporter": "python",
   "pygments_lexer": "ipython3",
   "version": "3.7.7"
  }
 },
 "nbformat": 4,
 "nbformat_minor": 4
}
