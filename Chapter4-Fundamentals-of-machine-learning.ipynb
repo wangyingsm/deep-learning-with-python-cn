{
 "cells": [
  {
   "cell_type": "markdown",
   "metadata": {},
   "source": [
    "<< [第三章：进入神经网络](Chapter3-Getting-started-with-neural-networks.ipynb) || [目录](index.md) || [第五章：计算机视觉中的深度学习](Chapter5-Deep-learning-for-computer-vision.ipynb) >>"
   ]
  },
  {
   "cell_type": "markdown",
   "metadata": {},
   "source": [
    "# 第四章：机器学习基础 "
   ]
  },
  {
   "cell_type": "markdown",
   "metadata": {},
   "source": [
    "> After three practical examples, you are starting to get familiar with how to approach\n",
    "classification and regression problems using neural networks, and you have witnessed the\n",
    "central problem of machine learning: overfitting. This chapter will formalize some of the\n",
    "intuition you are starting to form into a solid conceptual framework for attacking and\n",
    "solving deep learning problems.\n",
    "\n",
    "经过了三个实践性的例子之后，你已经开始熟悉使用神经网络方法来解决分类和回归问题了，并且还亲眼见到了机器学习中的核心问题：过拟合。本章会将你前面获得的感性认知转化为脑中扎实的概念性框架，来挑战和解决深度学习问题。\n",
    "\n",
    "> In this chapter, you will:\n",
    "\n",
    "> - Learn about more forms of machine learning, beyond classification and regression.\n",
    "- Learn about formal evaluation procedures for machine learning models, a simple version\n",
    "of which you have already seen in action a few times.\n",
    "- Learn how to prepare data for deep learning, and what is \"feature engineering\".\n",
    "- Learn ways to tackle the central problem of machine learning: overfitting, which we\n",
    "faced in all of our three previous examples.\n",
    "\n",
    "本章中，我们将：\n",
    "\n",
    "- 了解机器学习的更多形式，除了分类和回归之外。\n",
    "- 学习机器学习模型的正规验证方法，这是前面我们已经多次实际遇到过的概念。\n",
    "- 学习如何在深度学习中准备数据，以及什么叫做“特征工程”。\n",
    "- 学习解决机器学习核心问题的方法：过拟合，这个问题在前面三个例子中我们都目睹过。\n",
    "\n",
    "> Finally, we will consolidate all these concepts—model evaluation, data preprocessing\n",
    "and feature engineering, tackling overfitting—into a detailed 7-step workflow for\n",
    "tackling any machine learning problem.\n",
    "\n",
    "最后，我们会将所有这些概念 - 模型验证、数据预处理和特征工程、解决过拟合 - 总结成一个详细的7步工作流，用来解决所有的机器学习问题。"
   ]
  },
  {
   "cell_type": "markdown",
   "metadata": {},
   "source": [
    "## 4.1 机器学习的四个类别\n",
    "\n",
    "> Throughout our previous examples, you’ve become familiar with three specific types of\n",
    "machine learning problems: binary classification, multi-class classification, and scalar\n",
    "regression. All three are instances of \"supervised learning\", where the goal is to learn the\n",
    "relationship between training inputs and training targets.\n",
    "\n",
    "在前面的例子中，你已经熟悉了三种特定的机器学习问题：二分分类、多类别分类和标量回归。所有这三种问题都是“有监督学习”的例子，其目标是学习到训练输入和训练目标之间的关联关系。\n",
    "\n",
    "> Supervised learning is just the tip of the iceberg. Machine learning is a vast field with\n",
    "a complex subfield taxonomy. Machine learning algorithms generally fall into four broad\n",
    "categories:\n",
    "\n",
    "有监督学习仅仅是冰山一角。机器学习实际上是一个包含了很多复杂子范围的广泛领域。机器学习算法通常可以分为下面四个类别："
   ]
  },
  {
   "cell_type": "markdown",
   "metadata": {},
   "source": [
    "### 4.1.1 有监督学习\n",
    "\n",
    "> This is by far the most common case. It consists of learning to map input data to known\n",
    "targets (also called annotations), given a set of examples (often annotated by humans).\n",
    "All four examples you’ve encountered in this book so far were canonical examples of\n",
    "supervised learning. Generally, almost all applications of deep learning that are getting\n",
    "the spotlight these days belong in this category, such as optical character recognition,\n",
    "speech recognition, image classification or language translation.\n",
    "\n",
    "这是目前为止最常见的场景。它学习从数据数据到已知目标（也称为标记）之间的映射关系，通过在给定一组样本（通常由人来进行标记）进行。本书中前面介绍的所有四个例子都是有监督学习。更普遍来说，进来深度学习领域受到关注的应用基本上也都是这个类别，例如光学字母辨识、语音识别、图像分类和机器翻译。"
   ]
  },
  {
   "cell_type": "markdown",
   "metadata": {},
   "source": [
    "### 4.1.2 无监督学习\n",
    "\n",
    "> This one consists of finding interesting transformations of the input data without the help\n",
    "of any targets, for the purposes of data visualization, data compression, data denoising...\n",
    "or simply to better understand the correlations present in the data at hand. Unsupervised\n",
    "learning is the bread and butter of \"data analytics\", and is often a necessary step in better\n",
    "understanding a dataset before attempting to solve a supervised learning problem.\n",
    "\"Dimensionality reduction\" and \"clustering\" are well-known categories of unsupervised\n",
    "learning.\n",
    "\n",
    "这个类别包含着从输入数据中找到有趣的转换形式，其中不需要任何目标的帮助，用来进行数据可视化、数据压缩、数据去噪......或者仅仅只是为了更好的理解手头数据的内在关联。无监督学习是“数据分析”的黄油加面包，并且经常是在试图解决有监督学习问题之前，用来更好理解数据集的必须步骤。“降维”和“聚类”是无监督学习中广为人知的类型。"
   ]
  },
  {
   "cell_type": "markdown",
   "metadata": {},
   "source": [
    "### 4.1.3 自监督学习\n",
    "\n",
    "> This is actually a specific instance of supervised learning, but it different enough that it\n",
    "deserves its own category. Self-supervised learning is supervised learning without\n",
    "human-annotated labels. There are still labels involved (since the learning has to be\n",
    "supervised by something), but they are generated from the input data itself, typically\n",
    "using a heuristic algorithm. You can think of it as supervised learning without any\n",
    "humans in the loop. For instance, \"autoencoders\" are a well-known instance of\n",
    "self-supervised learning, where the generated targets are... the input themselves,\n",
    "unmodified. In the same way, trying to predict the next frame in a video given past\n",
    "frames, or the next word in a text given previous words, would be another instance of\n",
    "self-supervised learning (temporally supervised learning, in this case: supervision comes\n",
    "from future input data). Note that the distinction between supervised, self-supervised and\n",
    "unsupervised learning can be blurry sometimes—these categories are more of continuum\n",
    "without solid frontiers. Self-supervised learning can be reinterpreted as either supervised\n",
    "or unsupervised learning depending on whether you pay attention to the learning\n",
    "mechanism or to the context of its application.\n",
    "\n",
    "这实际上是有监督学习中的一个特定种类，但它又很特殊足以自立山头。自监督学习是不需要人工标记的有监督学习。虽然它还是需要标签（因为学习必须被某些指标监督），但是标签能够从输入数据中自动产生，通常使用的是启发性算法来生成。你可以将它想象成在整个循环中不需要人类参与的有监督学习。例如，“自动编码器”就是一种自监督学习，它能自动产生目标...与输入一模一样的目标。同样的，在视频中根据前面帧的内容预测下一帧，或者在文本中根据前面的单词预测下一个单词，也是自监督学习的例子（暂时性有监督学习，这里的监督来自未来的输入数据）。注意有监督学习、自监督学习和无监督学习可能会是很模糊的 - 这些类别更像是连续的而非有着明确边界的。自监督学习可以被重新解读为有监督学习或者无监督学习，取决于你着重研究的是学习的机制还是应用的上下文方面。"
   ]
  },
  {
   "cell_type": "markdown",
   "metadata": {},
   "source": [
    "### 4.1.4 强化学习\n",
    "\n",
    "> Long overlooked, this branch of machine learning has recently started getting a lot of\n",
    "attention, after Google DeepMind successfully applied it to learning to play Atari games\n",
    "(and later, to learning to play Go at the highest level). In reinforcement learning, an\n",
    "\"agent\" receives information about its environment and learns to pick actions that will\n",
    "maximize some reward. For instance, a neural network that \"looks\" at a video game\n",
    "screen and outputs game actions in order to maximize its score can be trained via\n",
    "reinforcement learning. Currently, reinforcement learning is mostly a research area and\n",
    "has not yet had significant practical successes beyond games. In time, however, I would\n",
    "expect to see reinforcement learning take over an increasingly large range of real-world\n",
    "applications—self-driving, robotics, resource management, education... It is an idea\n",
    "whose time has come, or will come soon.\n",
    "\n",
    "这种机器学习类别曾经长期被忽视，最近开始得到了相当多的关注，特别是自从Google DeepMind将其成功的应用到了计算机学习进行Atari游戏（还有就是后来学习成为了超人类的围棋算法）之后。在强化学习中，存在一个“agent”用来从环境中获取信息然后学习选择能够最大化奖赏的行为。例如，一个神经网络可以“看见”视频游戏画面然后输出相应的游戏动作，目标是为了最大化获得高分，这就可以使用强化学习。目前强化学习还大多只是研究领域而并没有在除了游戏之外的实践中获得重要的成功。然而待以时日，作者期待能看到强化学习会占领真实世界应用的广泛领域 - 自动驾驶、机器人、资源管理、教育......当时机成熟时，或终将成熟时。\n",
    "\n",
    "> In this book, we will focus specifically on supervised learning, since it is by far the\n",
    "dominant form of deep learning today, with a wide range of industry applications. We\n",
    "will also take a briefer look at self-supervised learning in later chapters.\n",
    "\n",
    "本书我们会集中在有监督学习上，因为它是目前机器学习应用中的统治者，在广泛范围的工业应用中得到了使用和验证。我们也会在后面的章节中对自监督学习作简要的介绍。\n",
    "\n",
    "> Although supervised learning mostly consists of classification and regression, there\n",
    "are more exotic variants as well:\n",
    "\n",
    "> - Sequence generation (e.g. given a picture, predict a caption describing it). Sequence\n",
    "generation can sometimes be reformulated as a series of classification problems (e.g.\n",
    "repeatedly predicting the word or token in a sequence).\n",
    "- Syntax tree prediction (e.g. given a sentence, predict its decomposition into a syntax\n",
    "tree).\n",
    "- Object detection: given a picture, draw a bounding box around certain objects inside the\n",
    "picture. This can also be expressed as a classification problem (given many candidate\n",
    "bounding boxes, classify the contents of each one) or as a joint classification and\n",
    "regression problem, where the bounding box coordinates are being predicted via vector\n",
    "regression.\n",
    "- Image segmentation: given a picture, draw a pixel-level mask on a specific object.\n",
    "- etc...\n",
    "\n",
    "虽然有监督学习通常就是分类和回归，但是它也有一些很有趣的变体：\n",
    "\n",
    "- 序列生成（例如给定照片，预测描述照片的说明）。序列生成有时能被重定义为一系列的分类问题（例如重复的在一个序列中预测单词或符号）。\n",
    "- 语法树预测（例如给定一个句子，预测它解构成语法树的形式）。\n",
    "- 目标检测：给定照片，在其中某个特定目标上绘制方框。这也可以被表达成为一个分类问题（给定很多个可选的方框，对每个其中的内容进行分类）或者一个分类和回归问题的联合体，其中方框所在的坐标点是通过矢量回归预测得到的。\n",
    "- 图像分割：给定照片，在特定目标之上绘制像素级的遮盖。\n",
    "- 等等......"
   ]
  },
  {
   "cell_type": "markdown",
   "metadata": {},
   "source": [
    "<< [第三章：进入神经网络](Chapter3-Getting-started-with-neural-networks.ipynb) || [目录](index.md) || [第五章：计算机视觉中的深度学习](Chapter5-Deep-learning-for-computer-vision.ipynb) >>"
   ]
  }
 ],
 "metadata": {
  "kernelspec": {
   "display_name": "Python 3",
   "language": "python",
   "name": "python3"
  },
  "language_info": {
   "codemirror_mode": {
    "name": "ipython",
    "version": 3
   },
   "file_extension": ".py",
   "mimetype": "text/x-python",
   "name": "python",
   "nbconvert_exporter": "python",
   "pygments_lexer": "ipython3",
   "version": "3.7.6"
  }
 },
 "nbformat": 4,
 "nbformat_minor": 4
}
